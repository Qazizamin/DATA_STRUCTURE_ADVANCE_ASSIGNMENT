{
 "cells": [
  {
   "cell_type": "markdown",
   "metadata": {},
   "source": [
    "# ASSIGNMENT:\n",
    "## Data Structures In Python\n",
    "## PWSkills\n",
    "## Qazi Zamin"
   ]
  },
  {
   "cell_type": "markdown",
   "metadata": {},
   "source": [
    "### Q1) Write a code to reverse a string."
   ]
  },
  {
   "cell_type": "code",
   "execution_count": 1,
   "metadata": {},
   "outputs": [
    {
     "data": {
      "text/plain": [
       "'sllikswp morf ia evitareneg htiw ecneics atad gninrael ma i'"
      ]
     },
     "execution_count": 1,
     "metadata": {},
     "output_type": "execute_result"
    }
   ],
   "source": [
    "a = 'i am learning data science with generative ai from pwskills'\n",
    "\n",
    "a[::-1]"
   ]
  },
  {
   "cell_type": "markdown",
   "metadata": {},
   "source": [
    "### Q2) Write a code to count the number of vowels in a string."
   ]
  },
  {
   "cell_type": "code",
   "execution_count": 13,
   "metadata": {},
   "outputs": [
    {
     "name": "stdout",
     "output_type": "stream",
     "text": [
      "number of vowels in the string are: 20\n"
     ]
    }
   ],
   "source": [
    "def count_vowels(s):\n",
    "    vowels = 'aeiouAEIOU'\n",
    "    count = 0\n",
    "    \n",
    "    for i in s:\n",
    "        if i in vowels:\n",
    "            count += 1\n",
    "    return count\n",
    "\n",
    "str = \"i am learning data science with generative ai from pwskills\"\n",
    "print(f\"number of vowels in the string are: {count_vowels(str)}\")"
   ]
  },
  {
   "cell_type": "markdown",
   "metadata": {},
   "source": [
    "### Q3) Write a code to check if a given string is a palindrome or not."
   ]
  },
  {
   "cell_type": "code",
   "execution_count": 1,
   "metadata": {},
   "outputs": [
    {
     "name": "stdout",
     "output_type": "stream",
     "text": [
      "Madam is a palindrome\n"
     ]
    }
   ],
   "source": [
    "def is_palindrome(s):\n",
    "    s = s.lower()\n",
    "    return s == s[::-1]\n",
    "\n",
    "in_str = 'Madam'\n",
    "if is_palindrome(in_str):\n",
    "    print(f\"{in_str} is a palindrome\")\n",
    "else:\n",
    "    print(f\"{in_str} is not a palindrome\")"
   ]
  },
  {
   "cell_type": "markdown",
   "metadata": {},
   "source": [
    "### Q4) Write a code to check if two given strings are anagrams of each other."
   ]
  },
  {
   "cell_type": "code",
   "execution_count": 12,
   "metadata": {},
   "outputs": [
    {
     "name": "stdout",
     "output_type": "stream",
     "text": [
      "Listen and Silent are anagrams\n"
     ]
    }
   ],
   "source": [
    "def are_anagrams(s1, s2):\n",
    "    s1 = s1.replace('','').lower()\n",
    "    s2 = s2.replace('','').lower()\n",
    "    \n",
    "    return sorted(s1) == sorted(s2)\n",
    "\n",
    "str1 = \"Listen\"\n",
    "str2 = \"Silent\"\n",
    "\n",
    "if are_anagrams(str1, str2):\n",
    "    print(f\"{str1} and {str2} are anagrams\")\n",
    "else:\n",
    "    print(f\"{str1} and {str2} are not anagrams\")"
   ]
  },
  {
   "cell_type": "markdown",
   "metadata": {},
   "source": [
    "### Q5) Write a code to find all occurences of a given substring within another string."
   ]
  },
  {
   "cell_type": "code",
   "execution_count": 2,
   "metadata": {},
   "outputs": [
    {
     "name": "stdout",
     "output_type": "stream",
     "text": [
      "occurences of substring: [7, 32, 57]\n"
     ]
    }
   ],
   "source": [
    "def find_occ(string, substring):\n",
    "    occurrences = []\n",
    "    start = 0\n",
    "    \n",
    "    while True:\n",
    "        start = string.find(substring, start)\n",
    "        if start == -1:\n",
    "            break\n",
    "        occurrences.append(start)\n",
    "        start += len(substring)\n",
    "    return occurrences\n",
    "\n",
    "string = \"i am a simple person, i am very simple and i belong to a simple family\"\n",
    "substring = \"simple\"\n",
    "occurrences = find_occ(string, substring)\n",
    "\n",
    "print(\"occurences of substring:\", occurrences)"
   ]
  },
  {
   "cell_type": "markdown",
   "metadata": {},
   "source": [
    "### Q6) Write a code to perform basic string compression using the counts of repeated characters."
   ]
  },
  {
   "cell_type": "code",
   "execution_count": 1,
   "metadata": {},
   "outputs": [
    {
     "name": "stdout",
     "output_type": "stream",
     "text": [
      "Compression of tttttuuuutorrrriaaaaalllllll is: t5u4t1o1r4i1a5l7\n",
      "Compression of horizonn is: horizonn\n"
     ]
    }
   ],
   "source": [
    "def compression(s1):\n",
    "    if not s1:  # Handle empty input\n",
    "        return s1\n",
    "    \n",
    "    sb = []\n",
    "    count = 1\n",
    "    prev = s1[0]\n",
    "\n",
    "    for i in range(1, len(s1)):\n",
    "        curr = s1[i]\n",
    "        if prev == curr:\n",
    "            count += 1\n",
    "        else:\n",
    "            sb.append(prev)\n",
    "            sb.append(str(count))\n",
    "            prev = curr\n",
    "            count = 1\n",
    "\n",
    "    # Append the last set of characters\n",
    "    sb.append(prev)\n",
    "    sb.append(str(count))\n",
    "\n",
    "    compressed = ''.join(sb)\n",
    "\n",
    "    # Return the original string if the compressed version is not shorter\n",
    "    return compressed if len(compressed) < len(s1) else s1\n",
    "\n",
    "# Test cases\n",
    "s1 = \"tttttuuuutorrrriaaaaalllllll\"\n",
    "print(\"Compression of\", s1, \"is:\", compression(s1))\n",
    "\n",
    "s1 = \"horizonn\"\n",
    "print(\"Compression of\", s1, \"is:\", compression(s1))"
   ]
  },
  {
   "cell_type": "markdown",
   "metadata": {},
   "source": [
    "### Q7) Write a code to determine if a string has all unique characters."
   ]
  },
  {
   "cell_type": "code",
   "execution_count": 69,
   "metadata": {},
   "outputs": [
    {
     "name": "stdout",
     "output_type": "stream",
     "text": [
      "String abcde\n",
      "The string has all unique characters.\n"
     ]
    }
   ],
   "source": [
    "def has_all_unique_characters(s):\n",
    "   \n",
    "    seen_characters = set()\n",
    "    \n",
    "    \n",
    "    for char in s:\n",
    "        if char in seen_characters:\n",
    "            return False  # Duplicate character found\n",
    "        seen_characters.add(char)\n",
    "    \n",
    "    return True  # All characters are unique\n",
    "\n",
    "\n",
    "input_string = input(\"Enter a string to check for uniqueness: \")\n",
    "print(\"String\", input_string)\n",
    "if has_all_unique_characters(input_string):\n",
    "    print(\"The string has all unique characters.\")\n",
    "else:\n",
    "    print(\"The string does not have all unique characters.\")\n"
   ]
  },
  {
   "cell_type": "markdown",
   "metadata": {},
   "source": [
    "### Q8) Write a code to convert a given string to uppercase or lowercase."
   ]
  },
  {
   "cell_type": "code",
   "execution_count": 3,
   "metadata": {},
   "outputs": [
    {
     "data": {
      "text/plain": [
       "'pwskiLLs Is A VEry GooD plATforM to LearN DiffeREnt SkilL couRSES'"
      ]
     },
     "execution_count": 3,
     "metadata": {},
     "output_type": "execute_result"
    }
   ],
   "source": [
    "s = \"pwskiLLs Is A VEry GooD plATforM to LearN DiffeREnt SkilL couRSES\"\n",
    "s"
   ]
  },
  {
   "cell_type": "code",
   "execution_count": 4,
   "metadata": {},
   "outputs": [
    {
     "data": {
      "text/plain": [
       "'PWSKILLS IS A VERY GOOD PLATFORM TO LEARN DIFFERENT SKILL COURSES'"
      ]
     },
     "execution_count": 4,
     "metadata": {},
     "output_type": "execute_result"
    }
   ],
   "source": [
    "s.upper()"
   ]
  },
  {
   "cell_type": "code",
   "execution_count": 5,
   "metadata": {},
   "outputs": [
    {
     "data": {
      "text/plain": [
       "'pwskills is a very good platform to learn different skill courses'"
      ]
     },
     "execution_count": 5,
     "metadata": {},
     "output_type": "execute_result"
    }
   ],
   "source": [
    "s.lower()"
   ]
  },
  {
   "cell_type": "markdown",
   "metadata": {},
   "source": [
    "### Q9) Write a code to count the number of words in a string."
   ]
  },
  {
   "cell_type": "code",
   "execution_count": 6,
   "metadata": {},
   "outputs": [
    {
     "data": {
      "text/plain": [
       "65"
      ]
     },
     "execution_count": 6,
     "metadata": {},
     "output_type": "execute_result"
    }
   ],
   "source": [
    "s = \"pwskiLLs Is A VEry GooD plATforM to LearN DiffeREnt SkilL couRSES\"\n",
    "len(s)"
   ]
  },
  {
   "cell_type": "markdown",
   "metadata": {},
   "source": [
    "### Q10) Write a code to concatenate two strings without using the + operator."
   ]
  },
  {
   "cell_type": "code",
   "execution_count": 7,
   "metadata": {},
   "outputs": [
    {
     "name": "stdout",
     "output_type": "stream",
     "text": [
      "Hello, World!\n"
     ]
    }
   ],
   "source": [
    "def concat_strs(s1, s2):\n",
    "    return f\"{s1}{s2}\"\n",
    "\n",
    "str1 = \"Hello, \"\n",
    "str2 = \"World!\"\n",
    "\n",
    "result = concat_strs(str1, str2)\n",
    "\n",
    "print(result)"
   ]
  },
  {
   "cell_type": "markdown",
   "metadata": {},
   "source": [
    "### Q11) Write a code to remove all occurences of a specific element from a list."
   ]
  },
  {
   "cell_type": "code",
   "execution_count": 8,
   "metadata": {},
   "outputs": [
    {
     "name": "stdout",
     "output_type": "stream",
     "text": [
      "[1, 3, 4, 5, 6, 6, 7, 8]\n"
     ]
    }
   ],
   "source": [
    "def remove_ele(lst, element):\n",
    "    return[x for x in lst if x != element]\n",
    "\n",
    "my_list = [1,2,2,3,4,5,6,6,7,8]\n",
    "elements_to_remove = 2\n",
    "\n",
    "filtered_list = remove_ele(my_list, elements_to_remove)\n",
    "\n",
    "print(filtered_list)"
   ]
  },
  {
   "cell_type": "markdown",
   "metadata": {},
   "source": [
    "### Q12) implement a code to find the second largest number in a given list of integers."
   ]
  },
  {
   "cell_type": "code",
   "execution_count": 9,
   "metadata": {},
   "outputs": [
    {
     "name": "stdout",
     "output_type": "stream",
     "text": [
      "the second largest number is: 78\n"
     ]
    }
   ],
   "source": [
    "def second_largest_no(numbers):\n",
    "    unique_num = list(set(numbers))\n",
    "    if len(unique_num) < 2:\n",
    "        raise ValueError(\"list must contain at least two unique elements\")\n",
    "        \n",
    "    unique_num.sort()\n",
    "    return unique_num[-2]\n",
    "\n",
    "my_list = [10,10,23,67,78,78,87,87]\n",
    "second_largest = second_largest_no(my_list)\n",
    "\n",
    "print(\"the second largest number is:\", second_largest)"
   ]
  },
  {
   "cell_type": "markdown",
   "metadata": {},
   "source": [
    "### Q13) create a code to count the occurrences of each element in a list and return a dictionary with elements as keys and their counts as values."
   ]
  },
  {
   "cell_type": "code",
   "execution_count": 10,
   "metadata": {},
   "outputs": [
    {
     "name": "stdout",
     "output_type": "stream",
     "text": [
      "{1: 2, 2: 2, 3: 3, 4: 3, 5: 2, 6: 1, 77: 2, 88: 2}\n"
     ]
    }
   ],
   "source": [
    "from collections import Counter\n",
    "\n",
    "def count_occurrences(lst):\n",
    "    return dict(Counter(lst))\n",
    "\n",
    "my_list = [1,1,2,2,3,3,3,4,4,5,6,77,88,88,77,4,5]\n",
    "occurrences = count_occurrences(my_list)\n",
    "print(occurrences)"
   ]
  },
  {
   "cell_type": "markdown",
   "metadata": {},
   "source": [
    "### Q14) Write a code to reverse a list in-place without any built-in reverse functions."
   ]
  },
  {
   "cell_type": "code",
   "execution_count": 11,
   "metadata": {},
   "outputs": [
    {
     "name": "stdout",
     "output_type": "stream",
     "text": [
      "[5, 4, 3, 2, 1]\n"
     ]
    }
   ],
   "source": [
    "def reverse_list(lst):\n",
    "    left = 0\n",
    "    right = len(lst) - 1\n",
    "    \n",
    "    while left < right:\n",
    "        lst[left], lst[right] = lst[right], lst[left]\n",
    "        \n",
    "        left += 1\n",
    "        right -= 1\n",
    "        \n",
    "mylist = [1,2,3,4,5]\n",
    "reverse_list(mylist)\n",
    "print(mylist)"
   ]
  },
  {
   "cell_type": "markdown",
   "metadata": {},
   "source": [
    "### Q15) Implement a code to find and remove duplicates from a list while preserving the original order of elements."
   ]
  },
  {
   "cell_type": "code",
   "execution_count": 14,
   "metadata": {},
   "outputs": [
    {
     "name": "stdout",
     "output_type": "stream",
     "text": [
      "[1, 2, 3, 4, 5]\n"
     ]
    }
   ],
   "source": [
    "def remove_duplicates(original_list):\n",
    "    seen = set()\n",
    "    result = []\n",
    "\n",
    "    for i in original_list:\n",
    "        if i not in seen:\n",
    "            seen.add(i)\n",
    "            result.append(i)\n",
    "\n",
    "    return result\n",
    "\n",
    "original_list = [1, 2, 2, 3, 4, 4, 5]\n",
    "cleaned_list = remove_duplicates(original_list)\n",
    "print(cleaned_list)"
   ]
  },
  {
   "cell_type": "markdown",
   "metadata": {},
   "source": [
    "### Q16) Create a code to check if a given list is sorted (either in ascending or descending order) or not."
   ]
  },
  {
   "cell_type": "code",
   "execution_count": 16,
   "metadata": {},
   "outputs": [
    {
     "name": "stdout",
     "output_type": "stream",
     "text": [
      "True\n",
      "True\n",
      "False\n"
     ]
    }
   ],
   "source": [
    "def is_sorted(lst):\n",
    "    if not lst:\n",
    "        return True\n",
    "    \n",
    "    ascending = all(lst[i] <= lst[i + 1] for i in range(len(lst) - 1))\n",
    "\n",
    "    descending = all(lst[i] >= lst[i + 1] for i in range(len(lst) - 1))\n",
    "\n",
    "    return ascending or descending\n",
    "\n",
    "print(is_sorted([1,2,3,4,5]))     # True (ascending)\n",
    "print(is_sorted([5,4,3,2,1]))     # True (descending)\n",
    "print(is_sorted([1,3,4,2,5]))     # False (not sorted)"
   ]
  },
  {
   "cell_type": "markdown",
   "metadata": {},
   "source": [
    "### Q17) Write a code to merge two sorted lists into a single sorted list."
   ]
  },
  {
   "cell_type": "code",
   "execution_count": 20,
   "metadata": {},
   "outputs": [
    {
     "name": "stdout",
     "output_type": "stream",
     "text": [
      "[1, 2, 3, 4, 5, 6, 7, 8]\n"
     ]
    }
   ],
   "source": [
    "def merge_sorted_lists(list1, list2):\n",
    "    i, j = 0, 0\n",
    "    merged_list = []\n",
    "\n",
    "    while i < len(list1) and j < len(list2):\n",
    "        if list1[i] <= list2[j]:\n",
    "            merged_list.append(list1[i])\n",
    "            i += 1\n",
    "        else:\n",
    "            merged_list.append(list2[j])\n",
    "            j += 1\n",
    "\n",
    "    while i < len(list1):\n",
    "        merged_list.append(list1[i])\n",
    "        i += 1\n",
    "\n",
    "    while j < len(list2):\n",
    "        merged_list.append(list2[j])\n",
    "        j += 1\n",
    "\n",
    "    return merged_list\n",
    "\n",
    "list1 = [1,3,5,7]\n",
    "list2 = [2,4,6,8]\n",
    "merged_list = merge_sorted_lists(list1, list2)\n",
    "print(merged_list) "
   ]
  },
  {
   "cell_type": "markdown",
   "metadata": {},
   "source": [
    "### Q18) implement a code to find the intersection of two given lists."
   ]
  },
  {
   "cell_type": "code",
   "execution_count": 32,
   "metadata": {},
   "outputs": [
    {
     "name": "stdout",
     "output_type": "stream",
     "text": [
      "[4, 5, 6]\n"
     ]
    }
   ],
   "source": [
    "def intersection(list1, list2):\n",
    "    \n",
    "    return [x for x in list1 if x in list2]\n",
    "\n",
    "list1 = [1, 2, 3, 4, 5, 6]\n",
    "list2 = [4, 5, 6, 7, 8, 9]\n",
    "\n",
    "result = intersection(list1, list2)\n",
    "print(result) "
   ]
  },
  {
   "cell_type": "markdown",
   "metadata": {},
   "source": [
    "### Q19) Create a code to find the union of two lists without duplicates."
   ]
  },
  {
   "cell_type": "code",
   "execution_count": 33,
   "metadata": {},
   "outputs": [
    {
     "name": "stdout",
     "output_type": "stream",
     "text": [
      "[1, 2, 3, 4, 5, 6, 7, 8, 9, 10]\n"
     ]
    }
   ],
   "source": [
    "def union(list1, list2):\n",
    "\n",
    "    set1 = set(list1)\n",
    "    set2 = set(list2)\n",
    "\n",
    "    union_set = set1 | set2\n",
    "\n",
    "    return list(union_set)\n",
    "\n",
    "list1 = [1,1,2,3,4,5,6,6]\n",
    "list2 = [2,3,5,7,8,9,10]\n",
    "result = union(list1, list2)\n",
    "print(result)"
   ]
  },
  {
   "cell_type": "markdown",
   "metadata": {},
   "source": [
    "### Q20) Write a code to shuffle a given list randomly without using any built-in shuffle functions."
   ]
  },
  {
   "cell_type": "code",
   "execution_count": 39,
   "metadata": {},
   "outputs": [
    {
     "name": "stdout",
     "output_type": "stream",
     "text": [
      "[7, 4, 9, 3, 1, 2, 8, 6, 5]\n"
     ]
    }
   ],
   "source": [
    "import random\n",
    "\n",
    "def shuffle_list(lst):\n",
    "\n",
    "    for i in range(len(lst)):\n",
    "\n",
    "        j = random.randint(0, len(lst) - 1)\n",
    "\n",
    "        lst[i], lst[j] = lst[j], lst[i]\n",
    "\n",
    "    return lst\n",
    "\n",
    "original_list = [1,2,3,4,5,6,7,8,9]\n",
    "shuffled_list = shuffle_list(original_list.copy())\n",
    "print(shuffled_list)"
   ]
  },
  {
   "cell_type": "markdown",
   "metadata": {},
   "source": [
    "### Q21) Write a code that takes two tuples as input and returns a new tuple containing elements that are common to both input tuples."
   ]
  },
  {
   "cell_type": "code",
   "execution_count": 40,
   "metadata": {},
   "outputs": [
    {
     "name": "stdout",
     "output_type": "stream",
     "text": [
      "(4, 5, 6)\n"
     ]
    }
   ],
   "source": [
    "def common_elements(t1, t2):\n",
    "    set1 = set(t1)\n",
    "    set2 = set(t2)\n",
    "\n",
    "    common_set = set1 & set2\n",
    "\n",
    "    return tuple(common_set)\n",
    "\n",
    "t1 = (1,2,3,4,5,6)\n",
    "t2 = (4,5,6,7,8,9)\n",
    "result = common_elements(t1, t2)\n",
    "print(result)"
   ]
  },
  {
   "cell_type": "markdown",
   "metadata": {},
   "source": [
    "### Q22) Create a code that prompts the user to enter two sets of integers seperated by commas. Then, print the intersection of these two sets."
   ]
  },
  {
   "cell_type": "code",
   "execution_count": 45,
   "metadata": {},
   "outputs": [
    {
     "name": "stdout",
     "output_type": "stream",
     "text": [
      "The first input:  {1, 2, 3, 4, 5, 6}\n",
      "The second input:  {3, 4, 5, 6, 7, 8, 9}\n",
      "The intersection of the two sets is:  {3, 4, 5, 6}\n"
     ]
    }
   ],
   "source": [
    "def sets_from_input(prompt):\n",
    "\n",
    "    user_input = input(prompt)\n",
    "\n",
    "    return set(int(x.strip()) for x in user_input.split(','))\n",
    "\n",
    "def main():\n",
    "\n",
    "    set1 = sets_from_input(\"Enter the first set of integers seperated by commas: \")\n",
    "    set2 = sets_from_input(\"Enter the second set of integers seperated by commas: \")\n",
    "\n",
    "    intersection = set1 & set2\n",
    "    print(\"The first input: \", set1)\n",
    "    print(\"The second input: \", set2)\n",
    "\n",
    "    print(\"The intersection of the two sets is: \", intersection)\n",
    "\n",
    "if __name__ == \"__main__\":\n",
    "    main()"
   ]
  },
  {
   "cell_type": "markdown",
   "metadata": {},
   "source": [
    "### Q23) Write a code to concatenate two tuples. The function should take two tuples as input and return a new tuple containing elements from both input tuples."
   ]
  },
  {
   "cell_type": "code",
   "execution_count": 46,
   "metadata": {},
   "outputs": [
    {
     "name": "stdout",
     "output_type": "stream",
     "text": [
      "(1, 2, 3, 4, 5, 6, 7, 8, 9)\n"
     ]
    }
   ],
   "source": [
    "def concat_tup(tuple1, tuple2):\n",
    "\n",
    "    concat_tup = tuple1 + tuple2\n",
    "    return concat_tup\n",
    "\n",
    "tuple1 = (1,2,3,4)\n",
    "tuple2 = (5,6,7,8,9)\n",
    "\n",
    "result = concat_tup(tuple1, tuple2)\n",
    "\n",
    "print(result)"
   ]
  },
  {
   "cell_type": "markdown",
   "metadata": {},
   "source": [
    "### Q24) Develop a code that prompts the user to input two sets of strings. Then, print the elements that are present in the first set but not in the second set."
   ]
  },
  {
   "cell_type": "code",
   "execution_count": 47,
   "metadata": {},
   "outputs": [
    {
     "name": "stdout",
     "output_type": "stream",
     "text": [
      "The first input:  {'mobile', 'zamin', 'data', 'laptop', 'pwskills'}\n",
      "The second input:  {'machine', 'test', 'data', 'zamin'}\n",
      "The elements in the first set but not in the second set:  {'laptop', 'pwskills', 'mobile'}\n"
     ]
    }
   ],
   "source": [
    "def get_set_from_input(prompt):\n",
    "    user_input = input(prompt)\n",
    "\n",
    "    return set(s.strip() for s in user_input.split(','))\n",
    "\n",
    "def main():\n",
    "\n",
    "    set1 = get_set_from_input(\"Enter the first set of strings seperated by commas: \")\n",
    "    set2 = get_set_from_input(\"Enter the second set of strings seperated by commas: \")\n",
    "\n",
    "    difference = set1 - set2\n",
    "    print(\"The first input: \", set1)\n",
    "    print(\"The second input: \", set2)\n",
    "\n",
    "    print(\"The elements in the first set but not in the second set: \", difference)\n",
    "\n",
    "\n",
    "if __name__ == \"__main__\":\n",
    "    main()"
   ]
  },
  {
   "cell_type": "markdown",
   "metadata": {},
   "source": [
    "### Q25) Create a code that takes a tuple and two integers as input. the function should return a new tuple containing elements from the original tuple within the specified range of indices."
   ]
  },
  {
   "cell_type": "code",
   "execution_count": 50,
   "metadata": {},
   "outputs": [
    {
     "name": "stdout",
     "output_type": "stream",
     "text": [
      "tuple :  (1, 2, 3, 4, 5)\n",
      "start index :  1\n",
      "end index :  3\n",
      "the sliced tuple is:  (2, 3)\n"
     ]
    }
   ],
   "source": [
    "def slice_tuple(original_tuple, start_index, end_index):\n",
    "    return original_tuple[start_index:end_index]\n",
    "\n",
    "input_tuple = tuple(map(int, input(\"Enter elements of the tuple seperated by commas: \").split(',')))\n",
    "start = int(input(\"Enter the start index: \"))\n",
    "end = int(input(\"Enter the end index: \"))\n",
    "\n",
    "result = slice_tuple(input_tuple, start, end)\n",
    "print(\"tuple : \", input_tuple)\n",
    "print(\"start index : \", start)\n",
    "print(\"end index : \", end)\n",
    "\n",
    "print(\"the sliced tuple is: \", result)"
   ]
  },
  {
   "cell_type": "markdown",
   "metadata": {},
   "source": [
    "### Q26) Write a code that prompts the user to input two sets of characters. Then, print the union of these two sets."
   ]
  },
  {
   "cell_type": "code",
   "execution_count": 49,
   "metadata": {},
   "outputs": [
    {
     "name": "stdout",
     "output_type": "stream",
     "text": [
      "The first input:  {'b', 'c', 'd', 'e', 'a'}\n",
      "The second input:  {'h', 'd', 'g', 'e', 'f'}\n",
      "The union of the two sets is:  {'b', 'h', 'c', 'd', 'g', 'e', 'a', 'f'}\n"
     ]
    }
   ],
   "source": [
    "def get_set_from_input(prompt):\n",
    "    user_input = input(prompt)\n",
    "\n",
    "    return set(char.strip() for char in user_input.split(','))\n",
    "\n",
    "def main():\n",
    "    set1 = get_set_from_input(\"Enter the first set of characters seperated by commas: \")\n",
    "    set2 = get_set_from_input(\"Enter the second set of characters seperated by commas: \")\n",
    "\n",
    "    union_set = set1 | set2\n",
    "    \n",
    "    print(\"The first input: \", set1)\n",
    "    print(\"The second input: \", set2)\n",
    "\n",
    "    print(\"The union of the two sets is: \", union_set)\n",
    "\n",
    "if __name__ == \"__main__\":\n",
    "    main()"
   ]
  },
  {
   "cell_type": "markdown",
   "metadata": {},
   "source": [
    "### Q27) Develop a code that takes a tuple of integers as input. The function should return the maximum and minimum values from the tuple using tuple unpacking."
   ]
  },
  {
   "cell_type": "code",
   "execution_count": 54,
   "metadata": {},
   "outputs": [
    {
     "name": "stdout",
     "output_type": "stream",
     "text": [
      "Tuple: (11, 23, 42, 13, 56, 9, 66)\n",
      "Maximum Value: 66\n",
      "Minimum Value: 9\n"
     ]
    }
   ],
   "source": [
    "def find_max_min(numbers):\n",
    "\n",
    "    return max(numbers), min(numbers)\n",
    "\n",
    "input_tuple = tuple(map(int, input(\"Enter integers seperated by commas: \").split(',')))\n",
    "\n",
    "\n",
    "max_val, min_val = find_max_min(input_tuple)\n",
    "print(\"Tuple:\", input_tuple)\n",
    "print(f\"Maximum Value: {max_val}\")\n",
    "print(f\"Minimum Value: {min_val}\")"
   ]
  },
  {
   "cell_type": "markdown",
   "metadata": {},
   "source": [
    "### Q28) Create a code that defines two sets of integers. Then, print the union, intersection, and difference of these two sets."
   ]
  },
  {
   "cell_type": "code",
   "execution_count": 55,
   "metadata": {},
   "outputs": [
    {
     "name": "stdout",
     "output_type": "stream",
     "text": [
      "Set 1:  {1, 2, 3, 4, 5}\n",
      "Set 2:  {4, 5, 6, 7, 8}\n",
      "Union of Set 1 and Set 2:  {1, 2, 3, 4, 5, 6, 7, 8}\n",
      "intersection of Set 1 and Set 2:  {4, 5}\n",
      "Difference of Set 1 and Set 2:  {1, 2, 3}\n"
     ]
    }
   ],
   "source": [
    "def main():\n",
    "\n",
    "    set1 = {1,2,3,4,5}\n",
    "    set2 = {4,5,6,7,8}\n",
    "\n",
    "    # union\n",
    "    union_set = set1 | set2\n",
    "\n",
    "    # intersection\n",
    "    intersection_set = set1 & set2\n",
    "\n",
    "    # difference\n",
    "    difference_set = set1 - set2\n",
    "\n",
    "    print(\"Set 1: \", set1)\n",
    "    print(\"Set 2: \", set2)\n",
    "\n",
    "    print(\"Union of Set 1 and Set 2: \", union_set)\n",
    "    print(\"intersection of Set 1 and Set 2: \", intersection_set)\n",
    "    print(\"Difference of Set 1 and Set 2: \", difference_set)\n",
    "\n",
    "if __name__ == \"__main__\":\n",
    "    main()"
   ]
  },
  {
   "cell_type": "markdown",
   "metadata": {},
   "source": [
    "### Q29) Write a code that takes a tuple and an element as input. The function should return the count of occurrences of the given elements in the tuple."
   ]
  },
  {
   "cell_type": "code",
   "execution_count": 58,
   "metadata": {},
   "outputs": [
    {
     "name": "stdout",
     "output_type": "stream",
     "text": [
      "Tuple:  (1, 1, 1, 2, 2, 2, 2, 3, 3, 3, 4, 4, 4, 5, 5, 5, 5)\n",
      "element to count:  2\n",
      "The element 2 occurs 4 times in the tuple\n"
     ]
    }
   ],
   "source": [
    "def count_occurrences(input_tuple, element):\n",
    "    return input_tuple.count(element)\n",
    "\n",
    "input_tuple = tuple(map(int, input(\"Enter elements of the tuple seperated by commas: \").split(',')))\n",
    "\n",
    "element = int(input(\"Enter the element to count: \"))\n",
    "\n",
    "count = count_occurrences(input_tuple, element)\n",
    "print(\"Tuple: \", input_tuple)\n",
    "print(\"element to count: \", element)\n",
    "print(f\"The element {element} occurs {count} times in the tuple\")"
   ]
  },
  {
   "cell_type": "markdown",
   "metadata": {},
   "source": [
    "### Q30) Develop a code that prompts the user to input two sets of strings. Then, print the symmetric difference of these two sets."
   ]
  },
  {
   "cell_type": "code",
   "execution_count": 59,
   "metadata": {},
   "outputs": [
    {
     "name": "stdout",
     "output_type": "stream",
     "text": [
      "Set 1: {'banana', 'cherry', 'apple'}\n",
      "Set 2: {'banana', 'cherry', 'mango', 'date'}\n",
      "The symmetric difference of the two sets is: {'mango', 'apple', 'date'}\n"
     ]
    }
   ],
   "source": [
    "def get_set_from_input(prompt):\n",
    "    user_input = input(prompt)\n",
    "\n",
    "    return set(s.strip() for s in user_input.split(','))\n",
    "\n",
    "def main():\n",
    "\n",
    "    set1 = get_set_from_input(\"Enter the first set of strings separated by commas: \")\n",
    "    set2 = get_set_from_input(\"Enter the second set of strings separated by commas: \")\n",
    "\n",
    "\n",
    "    symmetric_difference = set1 ^ set2\n",
    "\n",
    "    print(\"Set 1:\", set1)\n",
    "    print(\"Set 2:\", set2)\n",
    "    print(\"The symmetric difference of the two sets is:\", symmetric_difference)\n",
    "\n",
    "if __name__ == \"__main__\":\n",
    "    main()"
   ]
  },
  {
   "cell_type": "markdown",
   "metadata": {},
   "source": [
    "### Q31) Write a code that takes a list of words as input and returns a dictionary where the keys are unique words and the values are the frequencies of those words in the input list."
   ]
  },
  {
   "cell_type": "code",
   "execution_count": 61,
   "metadata": {},
   "outputs": [
    {
     "name": "stdout",
     "output_type": "stream",
     "text": [
      "Words: ['apple', 'apple', 'banana', 'cherry', 'cherry', 'cherry', 'mango', 'mango', 'mango', 'mango']\n",
      "Word Frequencies:  {'apple': 2, 'banana': 1, 'cherry': 3, 'mango': 4}\n"
     ]
    }
   ],
   "source": [
    "def word_frequencies(word_list):\n",
    "    freq_dict = {}\n",
    "\n",
    "    for word in word_list:\n",
    "        if word in freq_dict:\n",
    "            freq_dict[word] += 1\n",
    "        else:\n",
    "            freq_dict[word] = 1\n",
    "    return freq_dict\n",
    "\n",
    "input_words = input(\"Enter a list of words seperated by commas: \").split(',')\n",
    "print(\"Words:\", input_words)\n",
    "\n",
    "input_words = [word.strip() for word in input_words]\n",
    "\n",
    "frequencies = word_frequencies(input_words)\n",
    "\n",
    "print(\"Word Frequencies: \", frequencies)"
   ]
  },
  {
   "cell_type": "markdown",
   "metadata": {},
   "source": [
    "### Q32) Write a code that takes two dictionaries as input and merge them into a single dictionary. If there are common keys, the values should be added together."
   ]
  },
  {
   "cell_type": "code",
   "execution_count": 62,
   "metadata": {},
   "outputs": [
    {
     "name": "stdout",
     "output_type": "stream",
     "text": [
      "Dictionary 1: {'apple': 10, 'banana': 11, 'cherry': 9, 'date': 8}\n",
      "Dictionary 2: {'almond': 10, 'peach': 1, 'carrot': 19, 'mango': 16}\n",
      "Merge dictionary: {'apple': 10, 'banana': 11, 'cherry': 9, 'date': 8, 'almond': 10, 'peach': 1, 'carrot': 19, 'mango': 16}\n"
     ]
    }
   ],
   "source": [
    "def merge_dictionaries(dict1, dict2):\n",
    "\n",
    "    merged_dict = dict1.copy()\n",
    "\n",
    "    for key, value in dict2.items():\n",
    "        if key in merged_dict:\n",
    "            merged_dict[key] += value\n",
    "        else:\n",
    "            merged_dict[key] = value\n",
    "    return merged_dict\n",
    "\n",
    "dict1 = eval(input(\"Enter the first dictionary (e.g., {'a': 1, 'b': 2}): \"))\n",
    "print(\"Dictionary 1:\", dict1)\n",
    "dict2 = eval(input(\"Enter the second dictionary (e.g., {'b': 3, 'c': 4}): \"))\n",
    "print(\"Dictionary 2:\", dict2)\n",
    "\n",
    "result_dict =merge_dictionaries(dict1, dict2)\n",
    "\n",
    "print(\"Merge dictionary:\", result_dict)"
   ]
  },
  {
   "cell_type": "markdown",
   "metadata": {},
   "source": [
    "### Q33) Write a code to access a value in a nested dictionary. The function should take the dictionary and a list of keys as input, and return the corresponding value. If any of the keys do not exist in the dictionary, the function should return None."
   ]
  },
  {
   "cell_type": "code",
   "execution_count": 65,
   "metadata": {},
   "outputs": [
    {
     "name": "stdout",
     "output_type": "stream",
     "text": [
      "keys: ['a', 'b', 'c']\n",
      "the value is:  42\n"
     ]
    }
   ],
   "source": [
    "def access_nested_dict(d, keys):\n",
    "    for key in keys:\n",
    "        if isinstance(d, dict) and key in d:\n",
    "            d = d[key]\n",
    "        else:\n",
    "            return None\n",
    "    return d\n",
    "\n",
    "nested_dict = {\n",
    "    'a': {\n",
    "        'b': {\n",
    "            'c': 42\n",
    "        }\n",
    "    }\n",
    "}\n",
    "\n",
    "keys_input = input(\"Enter the list of keys seperated by commas: \").split(',')\n",
    "keys_list = [key.strip() for key in keys_input]\n",
    "result = access_nested_dict(nested_dict, keys_list)\n",
    "\n",
    "print(\"keys:\", keys_input)\n",
    "print(\"the value is: \", result)"
   ]
  },
  {
   "cell_type": "markdown",
   "metadata": {},
   "source": [
    "### Q34) Write a code that takes a dictionary as input and returns a sorted version of it based on the values. You can choose whether to sort in ascending or descending order."
   ]
  },
  {
   "cell_type": "code",
   "execution_count": 78,
   "metadata": {},
   "outputs": [
    {
     "name": "stdout",
     "output_type": "stream",
     "text": [
      "Order: desc\n",
      "Sorted dictionary: {'cherry': 5, 'apple': 4, 'banana': 2, 'date': 1}\n"
     ]
    }
   ],
   "source": [
    "def sort_dict_by_values(d, ascending=True):\n",
    "   \n",
    "    sorted_dict = dict(sorted(d.items(), key=lambda item: item[1], reverse=not ascending))\n",
    "    return sorted_dict\n",
    "\n",
    "\n",
    "input_dict = {\n",
    "    'apple': 4,\n",
    "    'banana': 2,\n",
    "    'cherry': 5,\n",
    "    'date': 1\n",
    "}\n",
    "\n",
    "\n",
    "order = input(\"Enter sorting order (asc/desc): \").strip().lower()\n",
    "ascending = order != 'desc'\n",
    "\n",
    "print(\"Order:\", order)\n",
    "\n",
    "\n",
    "sorted_dict = sort_dict_by_values(input_dict, ascending)\n",
    "\n",
    "\n",
    "print(\"Sorted dictionary:\", sorted_dict)\n"
   ]
  },
  {
   "cell_type": "markdown",
   "metadata": {},
   "source": [
    "### Q35) Write a code that inverts a dictionary, swapping keys and values. Ensure that the inverted dictionary correctly handles cases where multiple keys have the same value by sorting the keys as a list in the inverted dictionary."
   ]
  },
  {
   "cell_type": "code",
   "execution_count": 79,
   "metadata": {},
   "outputs": [
    {
     "name": "stdout",
     "output_type": "stream",
     "text": [
      "Inverted dictionary:  {4: ['apple', 'date'], 2: ['banana'], 5: ['cherry']}\n"
     ]
    }
   ],
   "source": [
    "def invert_dict(d):\n",
    "    inverted = {}\n",
    "\n",
    "    for key, value in d.items():\n",
    "        if value in inverted:\n",
    "            inverted[value].append(key)\n",
    "        else:\n",
    "            inverted[value] = [key]\n",
    "\n",
    "    return inverted\n",
    "\n",
    "input_dict = {\n",
    "    'apple': 4,\n",
    "    'banana': 2,\n",
    "    'cherry': 5,\n",
    "    'date': 4\n",
    "}\n",
    "\n",
    "inverted_dict = invert_dict(input_dict)\n",
    "\n",
    "print(\"Inverted dictionary: \", inverted_dict)"
   ]
  }
 ],
 "metadata": {
  "kernelspec": {
   "display_name": "Python 3 (ipykernel)",
   "language": "python",
   "name": "python3"
  },
  "language_info": {
   "codemirror_mode": {
    "name": "ipython",
    "version": 3
   },
   "file_extension": ".py",
   "mimetype": "text/x-python",
   "name": "python",
   "nbconvert_exporter": "python",
   "pygments_lexer": "ipython3",
   "version": "3.10.8"
  }
 },
 "nbformat": 4,
 "nbformat_minor": 4
}
